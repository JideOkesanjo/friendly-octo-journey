{
  "nbformat": 4,
  "nbformat_minor": 0,
  "metadata": {
    "colab": {
      "provenance": [],
      "authorship_tag": "ABX9TyOnyu/vxN+FS4SQx/NAX3QQ"
    },
    "kernelspec": {
      "name": "python3",
      "display_name": "Python 3"
    },
    "language_info": {
      "name": "python"
    }
  },
  "cells": [
    {
      "cell_type": "markdown",
      "source": [
        "# Automated Web Content Summarization using GPT-4 and BART\n",
        "\n",
        "This Jupyter Notebook outlines the steps involved in creating a project that\n",
        "interacts with a large language model (GPT-4) to retrieve a relevant website,\n",
        "extracts and processes the content from that website, and then summarizes the\n",
        "content using the `facebook/bart-large-cnn` summarizer model from Hugging Face.\n",
        "\n",
        "\n"
      ],
      "metadata": {
        "id": "FINX5IVaia2K"
      }
    },
    {
      "cell_type": "markdown",
      "source": [
        "# Installing Necessary Libraries"
      ],
      "metadata": {
        "id": "nRRVnwTAbsBN"
      }
    },
    {
      "cell_type": "code",
      "execution_count": null,
      "metadata": {
        "colab": {
          "base_uri": "https://localhost:8080/"
        },
        "id": "MSBeUd9nP2u9",
        "outputId": "e05b0a49-b872-428a-85c9-0d379f4f616b"
      },
      "outputs": [
        {
          "output_type": "stream",
          "name": "stdout",
          "text": [
            "Requirement already satisfied: transformers in /usr/local/lib/python3.10/dist-packages (4.42.4)\n",
            "Requirement already satisfied: filelock in /usr/local/lib/python3.10/dist-packages (from transformers) (3.15.4)\n",
            "Requirement already satisfied: huggingface-hub<1.0,>=0.23.2 in /usr/local/lib/python3.10/dist-packages (from transformers) (0.23.5)\n",
            "Requirement already satisfied: numpy<2.0,>=1.17 in /usr/local/lib/python3.10/dist-packages (from transformers) (1.25.2)\n",
            "Requirement already satisfied: packaging>=20.0 in /usr/local/lib/python3.10/dist-packages (from transformers) (24.1)\n",
            "Requirement already satisfied: pyyaml>=5.1 in /usr/local/lib/python3.10/dist-packages (from transformers) (6.0.1)\n",
            "Requirement already satisfied: regex!=2019.12.17 in /usr/local/lib/python3.10/dist-packages (from transformers) (2024.5.15)\n",
            "Requirement already satisfied: requests in /usr/local/lib/python3.10/dist-packages (from transformers) (2.31.0)\n",
            "Requirement already satisfied: safetensors>=0.4.1 in /usr/local/lib/python3.10/dist-packages (from transformers) (0.4.3)\n",
            "Requirement already satisfied: tokenizers<0.20,>=0.19 in /usr/local/lib/python3.10/dist-packages (from transformers) (0.19.1)\n",
            "Requirement already satisfied: tqdm>=4.27 in /usr/local/lib/python3.10/dist-packages (from transformers) (4.66.4)\n",
            "Requirement already satisfied: fsspec>=2023.5.0 in /usr/local/lib/python3.10/dist-packages (from huggingface-hub<1.0,>=0.23.2->transformers) (2023.6.0)\n",
            "Requirement already satisfied: typing-extensions>=3.7.4.3 in /usr/local/lib/python3.10/dist-packages (from huggingface-hub<1.0,>=0.23.2->transformers) (4.12.2)\n",
            "Requirement already satisfied: charset-normalizer<4,>=2 in /usr/local/lib/python3.10/dist-packages (from requests->transformers) (3.3.2)\n",
            "Requirement already satisfied: idna<4,>=2.5 in /usr/local/lib/python3.10/dist-packages (from requests->transformers) (3.7)\n",
            "Requirement already satisfied: urllib3<3,>=1.21.1 in /usr/local/lib/python3.10/dist-packages (from requests->transformers) (2.0.7)\n",
            "Requirement already satisfied: certifi>=2017.4.17 in /usr/local/lib/python3.10/dist-packages (from requests->transformers) (2024.7.4)\n"
          ]
        }
      ],
      "source": [
        "!pip install transformers"
      ]
    },
    {
      "cell_type": "code",
      "source": [
        "from transformers import pipeline\n",
        "from urllib.request import urlopen\n",
        "from bs4 import BeautifulSoup\n",
        "import re"
      ],
      "metadata": {
        "id": "Ul3XA1mnQCe1"
      },
      "execution_count": null,
      "outputs": []
    },
    {
      "cell_type": "code",
      "source": [
        "summarizer = pipeline(\"summarization\", model=\"facebook/bart-large-cnn\")"
      ],
      "metadata": {
        "colab": {
          "base_uri": "https://localhost:8080/"
        },
        "id": "PN2xFnPJSSF2",
        "outputId": "59deae9b-2287-4e37-e316-12b67ba89b04"
      },
      "execution_count": null,
      "outputs": [
        {
          "output_type": "stream",
          "name": "stderr",
          "text": [
            "/usr/local/lib/python3.10/dist-packages/huggingface_hub/utils/_token.py:89: UserWarning: \n",
            "The secret `HF_TOKEN` does not exist in your Colab secrets.\n",
            "To authenticate with the Hugging Face Hub, create a token in your settings tab (https://huggingface.co/settings/tokens), set it as secret in your Google Colab and restart your session.\n",
            "You will be able to reuse this secret in all of your notebooks.\n",
            "Please note that authentication is recommended but still optional to access public models or datasets.\n",
            "  warnings.warn(\n"
          ]
        }
      ]
    },
    {
      "cell_type": "code",
      "source": [
        "from urllib.request import urlopen\n",
        "from bs4 import BeautifulSoup\n",
        "import re"
      ],
      "metadata": {
        "id": "XC5b8Ecxu6rZ"
      },
      "execution_count": null,
      "outputs": []
    },
    {
      "cell_type": "code",
      "source": [
        "!pip install llm"
      ],
      "metadata": {
        "colab": {
          "base_uri": "https://localhost:8080/"
        },
        "id": "1VR5_SRBNPmM",
        "outputId": "ad0c7de7-fa3a-4c51-fb7b-b744150d2535"
      },
      "execution_count": null,
      "outputs": [
        {
          "output_type": "stream",
          "name": "stdout",
          "text": [
            "Requirement already satisfied: llm in /usr/local/lib/python3.10/dist-packages (0.15)\n",
            "Requirement already satisfied: click in /usr/local/lib/python3.10/dist-packages (from llm) (8.1.7)\n",
            "Requirement already satisfied: openai>=1.0 in /usr/local/lib/python3.10/dist-packages (from llm) (1.37.1)\n",
            "Requirement already satisfied: click-default-group>=1.2.3 in /usr/local/lib/python3.10/dist-packages (from llm) (1.2.4)\n",
            "Requirement already satisfied: sqlite-utils>=3.37 in /usr/local/lib/python3.10/dist-packages (from llm) (3.37)\n",
            "Requirement already satisfied: sqlite-migrate>=0.1a2 in /usr/local/lib/python3.10/dist-packages (from llm) (0.1b0)\n",
            "Requirement already satisfied: pydantic>=1.10.2 in /usr/local/lib/python3.10/dist-packages (from llm) (2.8.2)\n",
            "Requirement already satisfied: PyYAML in /usr/local/lib/python3.10/dist-packages (from llm) (6.0.1)\n",
            "Requirement already satisfied: pluggy in /usr/local/lib/python3.10/dist-packages (from llm) (1.5.0)\n",
            "Requirement already satisfied: python-ulid in /usr/local/lib/python3.10/dist-packages (from llm) (2.7.0)\n",
            "Requirement already satisfied: setuptools in /usr/local/lib/python3.10/dist-packages (from llm) (71.0.4)\n",
            "Requirement already satisfied: pip in /usr/local/lib/python3.10/dist-packages (from llm) (24.1.2)\n",
            "Requirement already satisfied: anyio<5,>=3.5.0 in /usr/local/lib/python3.10/dist-packages (from openai>=1.0->llm) (3.7.1)\n",
            "Requirement already satisfied: distro<2,>=1.7.0 in /usr/lib/python3/dist-packages (from openai>=1.0->llm) (1.7.0)\n",
            "Requirement already satisfied: httpx<1,>=0.23.0 in /usr/local/lib/python3.10/dist-packages (from openai>=1.0->llm) (0.27.0)\n",
            "Requirement already satisfied: sniffio in /usr/local/lib/python3.10/dist-packages (from openai>=1.0->llm) (1.3.1)\n",
            "Requirement already satisfied: tqdm>4 in /usr/local/lib/python3.10/dist-packages (from openai>=1.0->llm) (4.66.4)\n",
            "Requirement already satisfied: typing-extensions<5,>=4.7 in /usr/local/lib/python3.10/dist-packages (from openai>=1.0->llm) (4.12.2)\n",
            "Requirement already satisfied: annotated-types>=0.4.0 in /usr/local/lib/python3.10/dist-packages (from pydantic>=1.10.2->llm) (0.7.0)\n",
            "Requirement already satisfied: pydantic-core==2.20.1 in /usr/local/lib/python3.10/dist-packages (from pydantic>=1.10.2->llm) (2.20.1)\n",
            "Requirement already satisfied: sqlite-fts4 in /usr/local/lib/python3.10/dist-packages (from sqlite-utils>=3.37->llm) (1.0.3)\n",
            "Requirement already satisfied: tabulate in /usr/local/lib/python3.10/dist-packages (from sqlite-utils>=3.37->llm) (0.9.0)\n",
            "Requirement already satisfied: python-dateutil in /usr/local/lib/python3.10/dist-packages (from sqlite-utils>=3.37->llm) (2.8.2)\n",
            "Requirement already satisfied: idna>=2.8 in /usr/local/lib/python3.10/dist-packages (from anyio<5,>=3.5.0->openai>=1.0->llm) (3.7)\n",
            "Requirement already satisfied: exceptiongroup in /usr/local/lib/python3.10/dist-packages (from anyio<5,>=3.5.0->openai>=1.0->llm) (1.2.2)\n",
            "Requirement already satisfied: certifi in /usr/local/lib/python3.10/dist-packages (from httpx<1,>=0.23.0->openai>=1.0->llm) (2024.7.4)\n",
            "Requirement already satisfied: httpcore==1.* in /usr/local/lib/python3.10/dist-packages (from httpx<1,>=0.23.0->openai>=1.0->llm) (1.0.5)\n",
            "Requirement already satisfied: h11<0.15,>=0.13 in /usr/local/lib/python3.10/dist-packages (from httpcore==1.*->httpx<1,>=0.23.0->openai>=1.0->llm) (0.14.0)\n",
            "Requirement already satisfied: six>=1.5 in /usr/local/lib/python3.10/dist-packages (from python-dateutil->sqlite-utils>=3.37->llm) (1.16.0)\n"
          ]
        }
      ]
    },
    {
      "cell_type": "markdown",
      "source": [
        "# Interacting with GPT-4 Model using the `llm` Python Library\n",
        "The first step in this project involves interacting with the GPT-4 model using the `llm` Python library. The goal here is to generate a prompt that asks for the best website containing information about the former footballer Diego Maradona. The response from the model is expected to include a URL to the relevant website."
      ],
      "metadata": {
        "id": "FIjIqD5Cju-w"
      }
    },
    {
      "cell_type": "code",
      "source": [
        "import llm"
      ],
      "metadata": {
        "id": "LSy26KWbNp-c"
      },
      "execution_count": null,
      "outputs": []
    },
    {
      "cell_type": "markdown",
      "source": [
        "Removed my API key from the project for security reasons. I will consider hashing the key in future so that it is useable for the task but not readable."
      ],
      "metadata": {
        "id": "Q8hswXzklvvu"
      }
    },
    {
      "cell_type": "code",
      "source": [
        "model = llm.get_model(\"gpt-4o\")\n",
        "model.key = ''\n",
        "response = model.prompt('find the best webpage about diego maradona returning only the webpage most relevant to his biography')\n",
        "response.text()"
      ],
      "metadata": {
        "colab": {
          "base_uri": "https://localhost:8080/",
          "height": 125
        },
        "id": "e9_GCA_TNn86",
        "outputId": "aaff89fb-dcc4-4e45-ffa7-29a7cb165ed1"
      },
      "execution_count": null,
      "outputs": [
        {
          "output_type": "execute_result",
          "data": {
            "text/plain": [
              "'The best webpage for a comprehensive biography of Diego Maradona is likely to be his Wikipedia page. Wikipedia often provides detailed, well-sourced information about the lives of notable individuals, including their early life, career milestones, achievements, and personal challenges. You can find his biography at the following link:\\n\\n[Diego Maradona - Wikipedia](https://en.wikipedia.org/wiki/Diego_Maradona)\\n\\nThis page is frequently updated and contains extensive information about his career as a footballer, his achievements, controversies, and his impact on the sport and popular culture.'"
            ],
            "application/vnd.google.colaboratory.intrinsic+json": {
              "type": "string"
            }
          },
          "metadata": {},
          "execution_count": 8
        }
      ]
    },
    {
      "cell_type": "markdown",
      "source": [
        "# Extracting the Website URL using Regular Expressions\n",
        "The next step is to extract the website URL from the response provided by the GPT-4 model. This is accomplished using Python's `re` module for regular expression matching. The extracted URL is then used in the following steps for accessing and parsing the webpage content."
      ],
      "metadata": {
        "id": "GwhAMJR9kLZt"
      }
    },
    {
      "cell_type": "code",
      "source": [
        "import re\n",
        "\n",
        "def extract_url(text):\n",
        "    # Regular expression to match URLs\n",
        "    url_pattern = re.compile(r'(https?://\\S+)')\n",
        "    # Find all matches in the text\n",
        "    urls = url_pattern.findall(text)\n",
        "    return urls\n",
        "\n",
        "# Example usage\n",
        "url = extract_url(response.text())\n",
        "print(url)\n"
      ],
      "metadata": {
        "colab": {
          "base_uri": "https://localhost:8080/"
        },
        "id": "c9C0c1rsNuDZ",
        "outputId": "79da2957-c0e6-4387-90de-5fe9a99f17be"
      },
      "execution_count": null,
      "outputs": [
        {
          "output_type": "stream",
          "name": "stdout",
          "text": [
            "['https://en.wikipedia.org/wiki/Diego_Maradona)']\n"
          ]
        }
      ]
    },
    {
      "cell_type": "code",
      "source": [
        "url = url[0][:-1]"
      ],
      "metadata": {
        "id": "e_4u5TRX9TWJ"
      },
      "execution_count": null,
      "outputs": []
    },
    {
      "cell_type": "code",
      "source": [
        "#webpage = urlopen(url[0][:-1]).read()\n",
        "\n",
        "#soup = BeautifulSoup(webpage, 'lxml')\n",
        "\n",
        "#paras = []\n",
        "#for paragraph in soup.find_all('p'):\n",
        "#  paras.append(str(paragraph.text))\n",
        "\n",
        "\n",
        "#headers = []\n",
        "#for header in soup.find_all('span', attrs={'class': 'mw-headline'}):\n",
        "#  headers.append(str(header.text))\n",
        "\n",
        "#text = [word for pair in zip(paras, headers) for word in pair]\n",
        "#text = ' '.join(text)\n",
        "\n",
        "\n",
        "#text = re.sub(r\"\\[.*?\\]+\", '', text)\n",
        "\n",
        "#text\n"
      ],
      "metadata": {
        "id": "EpZADIqq7F0z"
      },
      "execution_count": null,
      "outputs": []
    },
    {
      "cell_type": "markdown",
      "source": [
        "# Accessing, Parsing, and Preprocessing the Webpage\n",
        "In this step, the extracted URL is used to access the webpage. The content of the webpage is parsed using the BeautifulSoup library, specifically focusing on text within <p> tags which typically contain the main body of the article. The text is then preprocessed to make it suitable for summarization. This preprocessing may involve cleaning up HTML tags, removing special characters, and normalizing whitespace."
      ],
      "metadata": {
        "id": "1Dl4-QbUkxqn"
      }
    },
    {
      "cell_type": "code",
      "source": [
        "def fetch_and_parse_wikipedia(url):\n",
        "    try:\n",
        "        # Attempting to fetch the page content\n",
        "        webpage = urlopen(url).read()\n",
        "\n",
        "        # Parse the HTML content using BeautifulSoup\n",
        "        soup = BeautifulSoup(webpage, 'lxml')\n",
        "\n",
        "        # Extracting all paragraphs\n",
        "        paras = [paragraph.text for paragraph in soup.find_all('p')]\n",
        "\n",
        "        # Extracting all headers\n",
        "        headers = [header.text for header in soup.find_all('span', attrs={'class': 'mw-headline'})]\n",
        "\n",
        "        # Combining paragraphs and headers otherwise, if the lengths are not equal, appending remaining elements.\n",
        "        combined_text = []\n",
        "        min_length = min(len(paras), len(headers))\n",
        "        for i in range(min_length):\n",
        "            combined_text.append(paras[i])\n",
        "            combined_text.append(headers[i])\n",
        "\n",
        "        # Appending any remaining paragraphs or headers\n",
        "        combined_text.extend(paras[min_length:])\n",
        "        combined_text.extend(headers[min_length:])\n",
        "\n",
        "        text = ' '.join(combined_text)\n",
        "\n",
        "        # Remove references\n",
        "        text = re.sub(r\"\\[.*?\\]+\", '', text)\n",
        "\n",
        "        return text\n",
        "    except Exception as e:\n",
        "        print(f\"Error: {e} for URL: {url}\")\n",
        "        return None\n"
      ],
      "metadata": {
        "collapsed": true,
        "id": "E05CGPDMBOpd"
      },
      "execution_count": null,
      "outputs": []
    },
    {
      "cell_type": "code",
      "source": [
        "def preprocess_text(text):\n",
        "    # Removing special characters and excessive whitespace\n",
        "    text = re.sub(r'\\s+', ' ', text).strip()\n",
        "    return text\n",
        "\n",
        "def chunk_text(text, chunk_size=500):\n",
        "    # Spliting text into chunks of specified size\n",
        "    words = text.split(' ')\n",
        "    chunks = [' '.join(words[i:i + chunk_size]) for i in range(0, len(words), chunk_size)]\n",
        "    return chunks"
      ],
      "metadata": {
        "id": "nHSfdIKoIfS5"
      },
      "execution_count": null,
      "outputs": []
    },
    {
      "cell_type": "markdown",
      "source": [
        "# Summarizing the Text using the BART Model\n",
        "The final step of the project involves summarizing the preprocessed text using the facebook/bart-large-cnn model available through the Hugging Face Transformers library. The summarizer is applied to the cleaned text, and the resulting summary is displayed. This provides a concise version of the original article, capturing the key points."
      ],
      "metadata": {
        "id": "3DCgzWESlZFr"
      }
    },
    {
      "cell_type": "code",
      "source": [
        "page_content = fetch_and_parse_wikipedia(url)\n",
        "\n",
        "if page_content:\n",
        "    page_content = preprocess_text(page_content)\n",
        "    text_chunks = chunk_text(page_content, chunk_size=500)\n",
        "\n",
        "    summarizer = pipeline(\"summarization\", model='facebook/bart-large-cnn')\n",
        "    summaries = []\n",
        "\n",
        "    for chunk in text_chunks:\n",
        "        summary = summarizer(chunk, max_length=100, min_length=40, do_sample=False)\n",
        "        summaries.append(summary[0]['summary_text'])\n",
        "\n",
        "    final_summary = ' '.join(summaries)\n",
        "    print(final_summary)\n",
        "else:\n",
        "    print(\"Failed to fetch or parse the page.\")"
      ],
      "metadata": {
        "colab": {
          "base_uri": "https://localhost:8080/"
        },
        "id": "v2RkK7FiIx9a",
        "outputId": "3c0e1d1b-bf2f-4178-c740-0aa67828e78f"
      },
      "execution_count": null,
      "outputs": [
        {
          "output_type": "stream",
          "name": "stderr",
          "text": [
            "Your max_length is set to 100, but your input_length is only 79. Since this is a summarization task, where outputs shorter than the input are typically wanted, you might consider decreasing max_length manually, e.g. summarizer('...', max_length=39)\n"
          ]
        },
        {
          "output_type": "stream",
          "name": "stdout",
          "text": [
            "Diego Armando Maradona (Spanish: ; 30 October 1960 – 25 November 2020) was an Argentine professional football player and manager. He was one of the two joint winners of the FIFA Player of the 20th Century award. He played for Argentinos Juniors, Barcelona, Napoli, Sevilla and Newell's Old Boys during his club career. In his international career with Argentina, he earned 91 caps and scored 34 goals. He became the coach of Argentina's national Diego Armando Maradona was born on 30 October 1960 in Lanús, Buenos Aires Province. He was the youngest player in the history of Argentine Primera División club Dorados. At age eight, he was spotted by a talent scout while playing in his local club Estrella Roja. He made his professional debut for Argentinos Juniors, 10 days before his 16th birthday, versus Talleres de Córdoba. Maradona spent five years at Argentinos Juniors, from 1976 to 1981, scoring 115 goals in 167 appearances before his US$4 million transfer to Boca Juniors. After the 1982 World Cup, in June, Maradona was transferred to Barcelona in Spain for a then world record fee of £5 million ($7.6 million) In 1983, under coach César Luis Menotti, Barcelona won the Copa del Rey and the Spanish Super Cup. Maradona had a difficult tenure at Barcelona due to illness and injury. Maradona was directly involved in a violent and chaotic fight at the 1984 Copa del Rey Final at the Santiago Bernabéu in Madrid against Athletic Bilbao. The mass brawl was played out in front of the Spanish King Juan Carlos and an audience of 100,000 fans inside the stadium. After fans began throwing solid objects on the field at the players, coaches and even photographers, sixty people were At Napoli, Maradona reached the peak of his professional career. Napoli won their first ever Serie A Italian Championship in 1986–87. Other honours included the Coppa Italia in 1987, the UEFA Cup in 1989, and the Italian Supercup in 1990. He was the top scorer in Serie A in 1987–88 with 15 goals, and was the all-time leading goalscorer for Napoli. Diego Armando Maradona was an Argentine footballer. He played for Napoli, Sevilla, Newell's Old Boys, Boca Juniors and Bayern Munich. He won the Golden Ball at both the FIFA U-20 World Cup and FIFA World Cup in 1979 and 1986. Maradona captained Argentina to victory in the 1986 World Cup in Mexico. He played every minute of every Argentina game, scoring five goals and making five assists. His first goal of the tournament came against Italy in the second group game in Puebla. After scoring two contrasting goals in the 2–1 quarter-final win against England, his legend was cemented. Maradona's second goal against England in the 1986 World Cup was voted \"Goal of the Century\" in a 2002 online poll conducted by FIFA. Maradona followed this with two more goals in a semi-final match against Belgium, including another virtuoso dribbling display for the second goal. In the final match, West Germany attempted to contain him by double-marking him, but in the 84th minute he nevertheless found space past West German player Lothar Matth Maradona captained Argentina again in the 1990 World Cup in Italy to yet another World Cup final. An ankle injury affected his overall performance, and he was much less dominant than four years earlier. Maradona played in only two games (both at the 1994 World Cup) before being sent home after failing a drug test for ephedrine doping. Maradona's international career lasted 17 years and yielded 34 goals from 91 games, including one winner's medal and one runners-up medal in the World Cup. He was renowned for his dribbling ability, vision, close ball control, passing and creativity. He had a compact physique, and with his strong legs, low center of gravity, and resulting balance, he could withstand physical pressure well while running with the ball. Diego Maradona captained Argentina in their World Cup campaigns of 1986, 1990 and 1994. He was known for his penchant for undertaking individual runs with the ball. But he was also a strategist and an intelligent team player. He showed leadership qualities on the field and off. Diego Maradona is one of the greatest footballers of all time. He is known for his skill with the ball and for his cunning personality. He was also a dangerous free kick and penalty kick taker. His style of taking free kicks influenced Gianfranco Zola and Lionel Messi. Diego Maradona is widely regarded as the best player of his generation. He is considered one of the greatest players of all time by pundits, players, and managers. Known for making \"great plays\" and doing \"unimaginable\" things with the ball. Maradona was notorious for his poor diet and extreme lifestyle off the pitch, including his use of illicit drugs and alcohol abuse. His lack of discipline and difficulties in his turbulent personal life are thought by some in the sport to have negatively impacted his performances and longevity in the later years of his playing career. Paolo Maldini, described Maradona both as the greatest player he ever faced, and also as the most honest. In 1999, Maradona was placed second behind Pelé by World Soccer in the magazine's list of the \"100 Greatest Players of the 20th Century\" Along with Pelé, he was one of the two joint winners of the FIFA Player of the Century award in 2000. In a 2014 FIFA poll, Mardona was voted the second-greatest number 10 of all time, behind only Pelé. Maradona has topped a number of fan polls, including a 2002 FIFA poll in which his second goal against England was chosen as the best goal ever scored in a World Cup. He also won the most votes in a poll to determine the All-Time Ultimate World Cup Team. On 22 March 2010, Maradona was chosen number 1 in 'The Greatest 10 World Cup Players of All Time' by the London-based newspaper The Times. In 2001, the Argentine Football Association ( Maradona began his managerial career alongside former Argentinos Juniors teammate Carlos Fren. The pair led Mandiyú of Corrientes in 1994 and Racing Club in 1995, with little success. In May 2011 he became manager of Dubai club Al Wasl FC in the United Arab Emirates. Maradona was sacked on 10 July 2012. He moved on to become 'spiritual coach' at Argentine club Deportivo Riestra. In September 2018, he was appointed manager of Maradona was appointed Argentina national team coach in 2008. He was banned from all footballing activity for two months in January 2010. His contract was not renewed by the AFA in July 2014. In November 2020, Maradona died in post and his coaching staff resigned from the club. Maradona married long-time fiancée Claudia Villafañe on 7 November 1989 in Buenos Aires. They had two daughters, Dalma Nerea (born 2 April 1987) and Gianinna Dinorah (born 16 May 1989), by whom he became a grandfather in 2009 after she married Sergio Agüero. Maradona admitted that he was the father of Diego Sinagra (born in Naples on 20 September 1986) The Italian courts had already ruled so in On 29 March 2007, Maradona was readmitted to a hospital in Buenos Aires. He was treated for hepatitis and effects of alcohol abuse and was released on 11 April, but readmitted two days later. In the following days, there were constant rumours about his health, including three false claims of his death within a month. He later claimed that he had quit drinking and had not used drugs in two and a half years. During the 2018 World Cup match between Argentina and Nigeria, Maradona is a former footballer who played for Argentina. He is known for his pro-U.S. attitude. Maradona visited the tomb of Hugo Chávez and urged Venezuelans to elect the late leader's designated successor. In March 2009, Italian officials announced that Maradona still owed the Italian government €37 million in local taxes, €23.5 million of which was accrued interest on his original debt. He was posthumously cleared of the accusations in January 2024 by the Supreme Court of Cassation. In a video released on his official Facebook page, Mardona confirmed he would accept their nomination for him to become Latin American director for the non-governmental organization Football for Unity. Napoli owner Aurelio De Laurentiis and the mayor of Naples Luigi de Magistris expressed their desire to rename their stadium after Maradona. On 27 November 2020, the Aditya School of Sports in Barasat, Kolkata, India named their cricket stadium after him. The AFA announced that the 2020 Copa de la Liga Profesional, which is the debut season of Copade la Liga, would be renamed Copa Diego Armando Mar In June 2022, a judge ruled that eight medical personnel should face trial for criminal negligence and homicide in regards to Maradona's death. On 18 April 2023, the Court of Appeals and Guarantees of San Isidro upheld the June 2022 ruling. The accused face between eight and 25 years in prison if found guilty. Many Argentine artists performed songs in tribute to Diego, such as \"La Mano de Dios\" by El Potro Rodrigo, \"Maradona\" by Andrés Calamaro, \"Para siempre Diego\" (Diego Forever) by Los Ratones Paranoicos, and \"Francotirador\" (Sniper) by Attaque 77. In 1982, he featured in a World Cup commercial for Coca-Cola, and a Japanese commercial for Maradona made 680 appearances and scored 345 goals for club and country combined. Maradona had a goalscoring average of 0.51. He was always the little guy fighting against the system... and he was willing to do anything.\n"
          ]
        }
      ]
    },
    {
      "cell_type": "markdown",
      "source": [
        "# Conclusion\n",
        "\n",
        "This project demonstrates the process of using a large language model to automate the retrieval of relevant web content, followed by web scraping, preprocessing, and summarization. The approach leverages state-of-the-art natural language processing tools to extract meaningful insights from web-based information, making it applicable to a wide range of use cases where summarization of long-form content is required."
      ],
      "metadata": {
        "id": "QmKTp62ImE2w"
      }
    },
    {
      "cell_type": "markdown",
      "source": [
        "# Additional Considerations:\n",
        "\n",
        "\n",
        "*   Error Handling: Implement error handling, especially when accessing the webpage (e.g., handle cases where the webpage is not accessible or the URL is incorrect).\n",
        "*   Edge Cases: I had to consider scenarios where the GPT-4 model may not return a valid URL or where the content of the webpage is not well-suited for summarization.\n",
        "\n",
        "\n",
        "*   Performance Optimization: When dealing with large articles, I had to chunk the text before passing it to the summarizer to avoid memory issues.\n",
        "\n",
        "\n",
        "\n"
      ],
      "metadata": {
        "id": "f1WhJLbQmZEM"
      }
    }
  ]
}